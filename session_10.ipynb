{
 "cells": [
  {
   "cell_type": "code",
   "execution_count": 1,
   "metadata": {},
   "outputs": [],
   "source": [
    "import math\n",
    "import numpy as np\n",
    "from polygonsequence import RegConvexPolygon"
   ]
  },
  {
   "cell_type": "markdown",
   "metadata": {},
   "source": [
    "# Testing Regular Convex Polygon Functions"
   ]
  },
  {
   "cell_type": "markdown",
   "metadata": {},
   "source": [
    "#### Create and display Regular Convex Polygon Iterator"
   ]
  },
  {
   "cell_type": "code",
   "execution_count": 2,
   "metadata": {},
   "outputs": [
    {
     "name": "stdout",
     "output_type": "stream",
     "text": [
      "{'vertices': 3, 'interior_angle': 60.0, 'edge_len': 6.9282, 'apothem': 2.0, 'area': 20.7846, 'perimeter': 20.7846, 'a_p_ratio': 1.0}\n",
      "{'vertices': 4, 'interior_angle': 90.0, 'edge_len': 5.6569, 'apothem': 2.8284, 'area': 32.0, 'perimeter': 22.6276, 'a_p_ratio': 1.4142}\n",
      "{'vertices': 5, 'interior_angle': 108.0, 'edge_len': 4.7023, 'apothem': 3.2361, 'area': 38.0428, 'perimeter': 23.5115, 'a_p_ratio': 1.61805}\n"
     ]
    }
   ],
   "source": [
    "# Create obect by specifying circum_radius and largest polygon size\n",
    "poly_a = RegConvexPolygon(circum_radius=4, largest_polygon=5)\n",
    "for item in poly_a:\n",
    "    print (item)"
   ]
  },
  {
   "cell_type": "markdown",
   "metadata": {},
   "source": [
    "#### Create and display Regular Convex Polygon Iterator with floating point circum radius"
   ]
  },
  {
   "cell_type": "code",
   "execution_count": 3,
   "metadata": {},
   "outputs": [
    {
     "name": "stdout",
     "output_type": "stream",
     "text": [
      "{'vertices': 3, 'interior_angle': 60.0, 'edge_len': 8.2584, 'apothem': 2.384, 'area': 29.532, 'perimeter': 24.7752, 'a_p_ratio': 1.192}\n",
      "{'vertices': 4, 'interior_angle': 90.0, 'edge_len': 6.743, 'apothem': 3.3715, 'area': 45.468, 'perimeter': 26.972, 'a_p_ratio': 1.68575}\n",
      "{'vertices': 5, 'interior_angle': 108.0, 'edge_len': 5.6051, 'apothem': 3.8574, 'area': 54.0528, 'perimeter': 28.0255, 'a_p_ratio': 1.9287}\n"
     ]
    }
   ],
   "source": [
    "# Create obect by specifying circum_radius and largest polygon size\n",
    "poly_a = RegConvexPolygon(circum_radius=4.768, largest_polygon=5)\n",
    "for item in poly_a:\n",
    "    print (item)"
   ]
  },
  {
   "cell_type": "markdown",
   "metadata": {},
   "source": [
    "#### Valid Polygon with circum_radius = 5, largest_polygon = 5"
   ]
  },
  {
   "cell_type": "code",
   "execution_count": 4,
   "metadata": {},
   "outputs": [],
   "source": [
    "polygon = RegConvexPolygon(5, 3)\n",
    "result = list(polygon)\n",
    "expected = [{'vertices': 3, 'interior_angle': 60.0, 'edge_len': 8.6603, 'apothem': 2.5, 'area': 32.4761, 'perimeter': 25.9809, 'a_p_ratio': 1.25}]\n",
    "assert result == expected"
   ]
  },
  {
   "cell_type": "markdown",
   "metadata": {},
   "source": [
    "#### Check if RegConvexPolygon raises errors for ascii values"
   ]
  },
  {
   "cell_type": "code",
   "execution_count": 5,
   "metadata": {},
   "outputs": [
    {
     "ename": "TypeError",
     "evalue": "Polygons will have circum_radius of type int or float",
     "output_type": "error",
     "traceback": [
      "\u001b[1;31m---------------------------------------------------------------------------\u001b[0m",
      "\u001b[1;31mTypeError\u001b[0m                                 Traceback (most recent call last)",
      "Cell \u001b[1;32mIn[5], line 1\u001b[0m\n\u001b[1;32m----> 1\u001b[0m poly_a \u001b[38;5;241m=\u001b[39m \u001b[43mRegConvexPolygon\u001b[49m\u001b[43m(\u001b[49m\u001b[43mcircum_radius\u001b[49m\u001b[38;5;241;43m=\u001b[39;49m\u001b[38;5;124;43m'\u001b[39;49m\u001b[38;5;124;43ma\u001b[39;49m\u001b[38;5;124;43m'\u001b[39;49m\u001b[43m,\u001b[49m\u001b[43m \u001b[49m\u001b[43mlargest_polygon\u001b[49m\u001b[38;5;241;43m=\u001b[39;49m\u001b[38;5;241;43m5\u001b[39;49m\u001b[43m)\u001b[49m\n",
      "File \u001b[1;32md:\\OneDrive - ALTEN Group\\Personal and Otherstuff\\Learnings\\EPAi5\\EPAiV5-Session10\\polygonsequence.py:17\u001b[0m, in \u001b[0;36mRegConvexPolygon.__init__\u001b[1;34m(self, circum_radius, largest_polygon)\u001b[0m\n\u001b[0;32m     15\u001b[0m \u001b[38;5;66;03m# print(\"RegConvexPolygon __init__ is called\")\u001b[39;00m\n\u001b[0;32m     16\u001b[0m \u001b[38;5;28;01mif\u001b[39;00m  \u001b[38;5;129;01mnot\u001b[39;00m (\u001b[38;5;28misinstance\u001b[39m(circum_radius, \u001b[38;5;28mint\u001b[39m) \u001b[38;5;129;01mor\u001b[39;00m \u001b[38;5;28misinstance\u001b[39m(circum_radius, \u001b[38;5;28mfloat\u001b[39m)):\n\u001b[1;32m---> 17\u001b[0m     \u001b[38;5;28;01mraise\u001b[39;00m \u001b[38;5;167;01mTypeError\u001b[39;00m (\u001b[38;5;124m'\u001b[39m\u001b[38;5;124mPolygons will have circum_radius of type int or float\u001b[39m\u001b[38;5;124m'\u001b[39m)\n\u001b[0;32m     19\u001b[0m \u001b[38;5;28;01mif\u001b[39;00m \u001b[38;5;129;01mnot\u001b[39;00m \u001b[38;5;28misinstance\u001b[39m(largest_polygon, \u001b[38;5;28mint\u001b[39m):\n\u001b[0;32m     20\u001b[0m     \u001b[38;5;28;01mraise\u001b[39;00m \u001b[38;5;167;01mTypeError\u001b[39;00m (\u001b[38;5;124m'\u001b[39m\u001b[38;5;124mPolygons will have edges of type int\u001b[39m\u001b[38;5;124m'\u001b[39m)\n",
      "\u001b[1;31mTypeError\u001b[0m: Polygons will have circum_radius of type int or float"
     ]
    }
   ],
   "source": [
    "poly_a = RegConvexPolygon(circum_radius='a', largest_polygon=5)"
   ]
  },
  {
   "cell_type": "code",
   "execution_count": 6,
   "metadata": {},
   "outputs": [
    {
     "ename": "TypeError",
     "evalue": "Polygons will have edges of type int",
     "output_type": "error",
     "traceback": [
      "\u001b[1;31m---------------------------------------------------------------------------\u001b[0m",
      "\u001b[1;31mTypeError\u001b[0m                                 Traceback (most recent call last)",
      "Cell \u001b[1;32mIn[6], line 1\u001b[0m\n\u001b[1;32m----> 1\u001b[0m poly_a \u001b[38;5;241m=\u001b[39m \u001b[43mRegConvexPolygon\u001b[49m\u001b[43m(\u001b[49m\u001b[43mcircum_radius\u001b[49m\u001b[38;5;241;43m=\u001b[39;49m\u001b[38;5;241;43m4\u001b[39;49m\u001b[43m,\u001b[49m\u001b[43m \u001b[49m\u001b[43mlargest_polygon\u001b[49m\u001b[38;5;241;43m=\u001b[39;49m\u001b[38;5;124;43m'\u001b[39;49m\u001b[38;5;124;43ma\u001b[39;49m\u001b[38;5;124;43m'\u001b[39;49m\u001b[43m)\u001b[49m\n",
      "File \u001b[1;32md:\\OneDrive - ALTEN Group\\Personal and Otherstuff\\Learnings\\EPAi5\\EPAiV5-Session10\\polygonsequence.py:20\u001b[0m, in \u001b[0;36mRegConvexPolygon.__init__\u001b[1;34m(self, circum_radius, largest_polygon)\u001b[0m\n\u001b[0;32m     17\u001b[0m     \u001b[38;5;28;01mraise\u001b[39;00m \u001b[38;5;167;01mTypeError\u001b[39;00m (\u001b[38;5;124m'\u001b[39m\u001b[38;5;124mPolygons will have circum_radius of type int or float\u001b[39m\u001b[38;5;124m'\u001b[39m)\n\u001b[0;32m     19\u001b[0m \u001b[38;5;28;01mif\u001b[39;00m \u001b[38;5;129;01mnot\u001b[39;00m \u001b[38;5;28misinstance\u001b[39m(largest_polygon, \u001b[38;5;28mint\u001b[39m):\n\u001b[1;32m---> 20\u001b[0m     \u001b[38;5;28;01mraise\u001b[39;00m \u001b[38;5;167;01mTypeError\u001b[39;00m (\u001b[38;5;124m'\u001b[39m\u001b[38;5;124mPolygons will have edges of type int\u001b[39m\u001b[38;5;124m'\u001b[39m)\n\u001b[0;32m     22\u001b[0m \u001b[38;5;28;01mif\u001b[39;00m largest_polygon \u001b[38;5;241m<\u001b[39m \u001b[38;5;241m3\u001b[39m:\n\u001b[0;32m     23\u001b[0m     \u001b[38;5;28;01mraise\u001b[39;00m \u001b[38;5;167;01mValueError\u001b[39;00m (\u001b[38;5;124m'\u001b[39m\u001b[38;5;124mPolygon should have atleast 3 sides\u001b[39m\u001b[38;5;124m'\u001b[39m)\n",
      "\u001b[1;31mTypeError\u001b[0m: Polygons will have edges of type int"
     ]
    }
   ],
   "source": [
    "poly_a = RegConvexPolygon(circum_radius=4, largest_polygon='a')"
   ]
  },
  {
   "cell_type": "markdown",
   "metadata": {},
   "source": [
    "#### Check if RegConvexPolygon raises errors for negative values"
   ]
  },
  {
   "cell_type": "code",
   "execution_count": 7,
   "metadata": {},
   "outputs": [
    {
     "ename": "ValueError",
     "evalue": "Polygon should have atleast 3 sides",
     "output_type": "error",
     "traceback": [
      "\u001b[1;31m---------------------------------------------------------------------------\u001b[0m",
      "\u001b[1;31mValueError\u001b[0m                                Traceback (most recent call last)",
      "Cell \u001b[1;32mIn[7], line 1\u001b[0m\n\u001b[1;32m----> 1\u001b[0m poly_a \u001b[38;5;241m=\u001b[39m \u001b[43mRegConvexPolygon\u001b[49m\u001b[43m(\u001b[49m\u001b[43mcircum_radius\u001b[49m\u001b[38;5;241;43m=\u001b[39;49m\u001b[38;5;241;43m4\u001b[39;49m\u001b[43m,\u001b[49m\u001b[43m \u001b[49m\u001b[43mlargest_polygon\u001b[49m\u001b[38;5;241;43m=\u001b[39;49m\u001b[38;5;241;43m-\u001b[39;49m\u001b[38;5;241;43m1\u001b[39;49m\u001b[43m)\u001b[49m\n",
      "File \u001b[1;32md:\\OneDrive - ALTEN Group\\Personal and Otherstuff\\Learnings\\EPAi5\\EPAiV5-Session10\\polygonsequence.py:23\u001b[0m, in \u001b[0;36mRegConvexPolygon.__init__\u001b[1;34m(self, circum_radius, largest_polygon)\u001b[0m\n\u001b[0;32m     20\u001b[0m     \u001b[38;5;28;01mraise\u001b[39;00m \u001b[38;5;167;01mTypeError\u001b[39;00m (\u001b[38;5;124m'\u001b[39m\u001b[38;5;124mPolygons will have edges of type int\u001b[39m\u001b[38;5;124m'\u001b[39m)\n\u001b[0;32m     22\u001b[0m \u001b[38;5;28;01mif\u001b[39;00m largest_polygon \u001b[38;5;241m<\u001b[39m \u001b[38;5;241m3\u001b[39m:\n\u001b[1;32m---> 23\u001b[0m     \u001b[38;5;28;01mraise\u001b[39;00m \u001b[38;5;167;01mValueError\u001b[39;00m (\u001b[38;5;124m'\u001b[39m\u001b[38;5;124mPolygon should have atleast 3 sides\u001b[39m\u001b[38;5;124m'\u001b[39m)\n\u001b[0;32m     25\u001b[0m \u001b[38;5;28;01mif\u001b[39;00m circum_radius \u001b[38;5;241m<\u001b[39m\u001b[38;5;241m=\u001b[39m \u001b[38;5;241m0\u001b[39m:\n\u001b[0;32m     26\u001b[0m     \u001b[38;5;28;01mraise\u001b[39;00m \u001b[38;5;167;01mValueError\u001b[39;00m (\u001b[38;5;124m'\u001b[39m\u001b[38;5;124mPolygon\u001b[39m\u001b[38;5;130;01m\\'\u001b[39;00m\u001b[38;5;124ms circum radius must a valid positive real number\u001b[39m\u001b[38;5;124m'\u001b[39m)\n",
      "\u001b[1;31mValueError\u001b[0m: Polygon should have atleast 3 sides"
     ]
    }
   ],
   "source": [
    "poly_a = RegConvexPolygon(circum_radius=4, largest_polygon=-1)"
   ]
  },
  {
   "cell_type": "code",
   "execution_count": 8,
   "metadata": {},
   "outputs": [
    {
     "ename": "ValueError",
     "evalue": "Polygon should have atleast 3 sides",
     "output_type": "error",
     "traceback": [
      "\u001b[1;31m---------------------------------------------------------------------------\u001b[0m",
      "\u001b[1;31mValueError\u001b[0m                                Traceback (most recent call last)",
      "Cell \u001b[1;32mIn[8], line 1\u001b[0m\n\u001b[1;32m----> 1\u001b[0m poly_a \u001b[38;5;241m=\u001b[39m \u001b[43mRegConvexPolygon\u001b[49m\u001b[43m(\u001b[49m\u001b[43mcircum_radius\u001b[49m\u001b[38;5;241;43m=\u001b[39;49m\u001b[38;5;241;43m4\u001b[39;49m\u001b[43m,\u001b[49m\u001b[43m \u001b[49m\u001b[43mlargest_polygon\u001b[49m\u001b[38;5;241;43m=\u001b[39;49m\u001b[38;5;241;43m2\u001b[39;49m\u001b[43m)\u001b[49m\n",
      "File \u001b[1;32md:\\OneDrive - ALTEN Group\\Personal and Otherstuff\\Learnings\\EPAi5\\EPAiV5-Session10\\polygonsequence.py:23\u001b[0m, in \u001b[0;36mRegConvexPolygon.__init__\u001b[1;34m(self, circum_radius, largest_polygon)\u001b[0m\n\u001b[0;32m     20\u001b[0m     \u001b[38;5;28;01mraise\u001b[39;00m \u001b[38;5;167;01mTypeError\u001b[39;00m (\u001b[38;5;124m'\u001b[39m\u001b[38;5;124mPolygons will have edges of type int\u001b[39m\u001b[38;5;124m'\u001b[39m)\n\u001b[0;32m     22\u001b[0m \u001b[38;5;28;01mif\u001b[39;00m largest_polygon \u001b[38;5;241m<\u001b[39m \u001b[38;5;241m3\u001b[39m:\n\u001b[1;32m---> 23\u001b[0m     \u001b[38;5;28;01mraise\u001b[39;00m \u001b[38;5;167;01mValueError\u001b[39;00m (\u001b[38;5;124m'\u001b[39m\u001b[38;5;124mPolygon should have atleast 3 sides\u001b[39m\u001b[38;5;124m'\u001b[39m)\n\u001b[0;32m     25\u001b[0m \u001b[38;5;28;01mif\u001b[39;00m circum_radius \u001b[38;5;241m<\u001b[39m\u001b[38;5;241m=\u001b[39m \u001b[38;5;241m0\u001b[39m:\n\u001b[0;32m     26\u001b[0m     \u001b[38;5;28;01mraise\u001b[39;00m \u001b[38;5;167;01mValueError\u001b[39;00m (\u001b[38;5;124m'\u001b[39m\u001b[38;5;124mPolygon\u001b[39m\u001b[38;5;130;01m\\'\u001b[39;00m\u001b[38;5;124ms circum radius must a valid positive real number\u001b[39m\u001b[38;5;124m'\u001b[39m)\n",
      "\u001b[1;31mValueError\u001b[0m: Polygon should have atleast 3 sides"
     ]
    }
   ],
   "source": [
    "poly_a = RegConvexPolygon(circum_radius=4, largest_polygon=2)"
   ]
  }
 ],
 "metadata": {
  "kernelspec": {
   "display_name": "epaiv5",
   "language": "python",
   "name": "python3"
  },
  "language_info": {
   "codemirror_mode": {
    "name": "ipython",
    "version": 3
   },
   "file_extension": ".py",
   "mimetype": "text/x-python",
   "name": "python",
   "nbconvert_exporter": "python",
   "pygments_lexer": "ipython3",
   "version": "3.12.3"
  }
 },
 "nbformat": 4,
 "nbformat_minor": 2
}
